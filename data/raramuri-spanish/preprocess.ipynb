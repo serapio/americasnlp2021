{
 "cells": [
  {
   "cell_type": "code",
   "execution_count": 74,
   "id": "painted-harvey",
   "metadata": {},
   "outputs": [
    {
     "data": {
      "text/plain": [
       "'píli alé ne olale pa … ké ne newa nile . chiolaa ké newa níma !'"
      ]
     },
     "execution_count": 74,
     "metadata": {},
     "output_type": "execute_result"
    }
   ],
   "source": [
    "import re\n",
    "\n",
    "def tokenize_brambila(line):\n",
    "    text = re.sub(r\"[ꞌ'’‘´]\", \"Q\", line.lower())\n",
    "    text = text.replace('*', '')\n",
    "\n",
    "    text = re.sub(r'^[A-Z ]+ ([.:] )?', '', text)\n",
    "    text = re.sub(r'^(\\(\\(? ?[0-9a-k] ?\\) ?)+([0-9a-k\\.] ?\\))?', '', text)\n",
    "    text = re.sub(r'^[a-k] ?\\)', '', text)\n",
    "    text = re.sub(r'^[0-9] ?- ', '', text)\n",
    "    text = re.sub(r'^[A-Z ]+ ([.:] )?', '', text)\n",
    "\n",
    "    text = re.sub(r'ŕr?', '_R_', text)\n",
    "    text = re.sub(r'^r| r', ' _R_', text)\n",
    "    text = text.replace('r', 'l')\n",
    "    text = text.replace('_R_', 'r')\n",
    "    text = text.replace('tz', 'ch')\n",
    "    text = text.replace('ame', 'ami')\n",
    "    text = re.sub(r'-+', ' ', text)\n",
    "    text = re.sub(r'([,.?!¿¡;()_])', r' \\1 ', text)\n",
    "    text = re.sub(r'(\\. +){2,}|…', ' … ', text)\n",
    "    text = re.sub(r' +', ' ', text)\n",
    "    text = re.sub(r'^ ', '', text)\n",
    "    text = re.sub(r' $', '', text)\n",
    "    return text\n",
    "\n",
    "tokenize_brambila(\"(3) aminabi jawároma, mapu gá ní*rea éenabo goche, wekáwari tániria ka, ga'rá bichíiria ka ba\")\n",
    "tokenize_brambila(\"((1)a) píri aré ne orare pa. . . ké ne newa ni*re. --chioraa ké newa níma!\")"
   ]
  },
  {
   "cell_type": "code",
   "execution_count": 75,
   "id": "several-occurrence",
   "metadata": {},
   "outputs": [
    {
     "data": {
      "text/plain": [
       "'aQlíko , bilé mili waminá malí ciento pakótami si napawíli , echoná ne si bakíli .'"
      ]
     },
     "execution_count": 75,
     "metadata": {},
     "output_type": "execute_result"
    }
   ],
   "source": [
    "def tokenize_maennerchor(line):\n",
    "    text = re.sub(r\" ?[ꞌ'’‘] ?\", \"Q\", line.lower())\n",
    "\n",
    "    text = re.sub(r'([,.?!¿¡()_-])', r' \\1 ', text)\n",
    "    text = re.sub(r' +', ' ', text)\n",
    "    text = re.sub(r'^ ', '', text)\n",
    "    text = re.sub(r' $', '', text)\n",
    "    return text\n",
    "\n",
    "tokenize_maennerchor(\"A’líko, bilé mili waminá malí ciento pakótami si napawíli, echoná ne si bakíli.\")"
   ]
  },
  {
   "cell_type": "code",
   "execution_count": 76,
   "id": "silent-granny",
   "metadata": {},
   "outputs": [
    {
     "data": {
      "text/plain": [
       "'chú ikíana rijóori naparí mujé nátiri na pakótami naQí choguita ?'"
      ]
     },
     "execution_count": 76,
     "metadata": {},
     "output_type": "execute_result"
    }
   ],
   "source": [
    "def tokenize_kwaras(line):\n",
    "    text = re.sub(r\" ?[ꞌ'’‘] ?\", \"Q\", line.lower())\n",
    "\n",
    "    text = text.replace('ame', 'ami')\n",
    "    text = text.replace('rr', 'r')\n",
    "    \n",
    "    text = re.sub(r'([,.?!¿¡()_])', r' \\1 ', text)\n",
    "    text = re.sub(r'(\\. +){2,}|…', ' … ', text)\n",
    "    text = re.sub(r'-+', ' ', text)\n",
    "    text = re.sub(r' +', ' ', text)\n",
    "    text = re.sub(r'^ ', '', text)\n",
    "    text = re.sub(r' $', '', text)\n",
    "    return text\n",
    "\n",
    "tokenize_kwaras(\"chú ikíana rrijóori naparí mujé nátiri na pakótame na'í Choguita?\")"
   ]
  },
  {
   "cell_type": "code",
   "execution_count": 77,
   "id": "technological-birth",
   "metadata": {},
   "outputs": [
    {
     "data": {
      "text/plain": [
       "'chopi mapalí nijeni ma ku owinsa , echalini bachá simea echoQná galiléachi anilíwachi kawírali .'"
      ]
     },
     "execution_count": 77,
     "metadata": {},
     "output_type": "execute_result"
    }
   ],
   "source": [
    "def tokenize_biblia(line):\n",
    "    text = re.sub(r\" ?[ꞌ'’‘] ?\", \"Q\", line.lower())\n",
    "    text = text.split('\\t')[1]\n",
    "    \n",
    "    text = re.sub(r'([,.?!¿¡()_-])', r' \\1 ', text)\n",
    "    text = re.sub(r'(\\. +){2,}|…', ' … ', text)\n",
    "    text = re.sub(r' +', ' ', text)\n",
    "    text = re.sub(r'^ ', '', text)\n",
    "    text = re.sub(r' $', '', text)\n",
    "    return text\n",
    "\n",
    "tokenize_biblia(\"26:32\tChopi mapalí Nijeni ma ku owinsa, echalini bachá simea echoꞌná Galiléachi anilíwachi kawírali.\")"
   ]
  },
  {
   "cell_type": "code",
   "execution_count": 78,
   "id": "shaped-holiday",
   "metadata": {},
   "outputs": [
    {
     "data": {
      "text/plain": [
       "'mapualí walú buQwíbali baQwí , kálaga nopolili echi kalí . echi chibá waminá waná iyénali , chopi ma napeli echi auché jalé yuwa . makoi miná bikiyá'"
      ]
     },
     "execution_count": 78,
     "metadata": {},
     "output_type": "execute_result"
    }
   ],
   "source": [
    "def tokenize_samachique(line):\n",
    "    text = re.sub(r\" ?[ꞌ'’‘] ?\", \"Q\", line.lower())\n",
    "\n",
    "    text = re.sub(r'^r| r', '_R_', text)\n",
    "    text = text.replace('r', 'l')\n",
    "    text = text.replace('_R_', 'r')\n",
    "    text = text.replace('qu', 'k')\n",
    "    text = re.sub(r'hu([aeiouáéíóú])', r'w\\1', text)\n",
    "    text = re.sub(r'c([aeiouáéíóú])', r'k\\1', text)\n",
    "    text = re.sub(r'y\\b|y([^aeiouáéíóú])', r'i\\1', text)\n",
    "    text = re.sub(r'([,.?!¿¡()_-])', r' \\1 ', text)\n",
    "    text = re.sub(r'(\\. +){2,}|…', ' … ', text)\n",
    "    text = re.sub(r' +', ' ', text)\n",
    "    text = re.sub(r'^ ', '', text)\n",
    "    text = re.sub(r' $', '', text)\n",
    "    return text\n",
    "\n",
    "tokenize_samachique(\"Mapuarí huarú bu'huíbari ba'huí, cáraga noporiri echi carí. Echi chibá huaminá huaná iyénari, chopi ma naperi echi auché jaré yuhua. Macoy miná biquiyá\")"
   ]
  },
  {
   "cell_type": "code",
   "execution_count": 79,
   "id": "lightweight-southeast",
   "metadata": {},
   "outputs": [
    {
     "data": {
      "text/plain": [
       "'entonces pablo le dijo : \" ¡ dios te golpeará , hipócrita ! ¡ te sientas allí para juzgarme conforme a tu ley , pero das orden para que me golpeen siendo que es infracción de la ley ! \"'"
      ]
     },
     "execution_count": 79,
     "metadata": {},
     "output_type": "execute_result"
    }
   ],
   "source": [
    "def tokenize_spanish(line):\n",
    "    text = line.lower().split('\\t')[-1]\n",
    "    \n",
    "    text = re.sub(r'([,.:;?!¿¡()_])', r' \\1 ', text)\n",
    "    text = re.sub(r'[“”]', '\"', text)\n",
    "    text = re.sub(r'-+', ' ', text)\n",
    "    text = re.sub(r'(\\. +){2,}|…', ' … ', text)\n",
    "    text = re.sub(r' +', ' ', text)\n",
    "    text = re.sub(r'^ ', '', text)\n",
    "    text = re.sub(r' $', '', text)\n",
    "    return text\n",
    "\n",
    "tokenize_spanish(\" 23:3 \tEntonces Pablo le dijo: “¡Dios te golpeará, hipócrita! ¡Te sientas allí para juzgarme conforme a tu ley, pero das orden para que me golpeen siendo que es infracción de la ley!”\")"
   ]
  },
  {
   "cell_type": "code",
   "execution_count": 29,
   "id": "naval-setup",
   "metadata": {},
   "outputs": [],
   "source": [
    "with open(\"raw/dev-maennerchor.tar\") as raw:\n",
    "    with open(\"dev.tar\", \"w\") as tokenized:\n",
    "        tokenized.writelines([tokenize_maennerchor(l) for l in raw])\n",
    "with open(\"raw/dev-maennerchor.es\") as raw:\n",
    "    with open(\"dev.es\", \"w\") as tokenized:\n",
    "        tokenized.writelines([tokenize_spanish(l) for l in raw])"
   ]
  },
  {
   "cell_type": "code",
   "execution_count": 80,
   "id": "encouraging-reviewer",
   "metadata": {},
   "outputs": [
    {
     "name": "stdout",
     "output_type": "stream",
     "text": [
      "Put 1472 out of 14721 in 'valid' dataset\n"
     ]
    }
   ],
   "source": [
    "with open(\"raw/train-brambila.tar\") as raw:\n",
    "    text = [tokenize_brambila(l) for l in raw]\n",
    "    valid_size = int(len(text) / 10)\n",
    "    \n",
    "    with open(\"valid.tar\", \"w\") as tokenized:\n",
    "        tokenized.writelines(text[-valid_size:])\n",
    "    with open(\"train.tar\", \"w\") as tokenized:\n",
    "        tokenized.writelines(text[:-valid_size])\n",
    "        \n",
    "with open(\"raw/train-brambila.es\") as raw:\n",
    "    text = [tokenize_spanish(l) for l in raw]\n",
    "    valid_size = int(len(text) / 10)\n",
    "    \n",
    "    with open(\"valid.es\", \"w\") as tokenized:\n",
    "        tokenized.writelines(text[-valid_size:])\n",
    "    with open(\"train.es\", \"w\") as tokenized:\n",
    "        tokenized.writelines(text[:-valid_size])\n",
    "        \n",
    "print(f\"Put {valid_size} out of {len(text)} in 'valid' dataset\")"
   ]
  },
  {
   "cell_type": "code",
   "execution_count": 81,
   "id": "comparable-intention",
   "metadata": {},
   "outputs": [
    {
     "name": "stdout",
     "output_type": "stream",
     "text": [
      "Put 283 out of 2830 in 'valid' dataset\n"
     ]
    }
   ],
   "source": [
    "with open(\"raw/train-kwaras.tar\") as raw:\n",
    "    text = [tokenize_kwaras(l) for l in raw]\n",
    "    valid_size = int(len(text) / 10)\n",
    "    \n",
    "    with open(\"valid.tar\", \"a\") as tokenized:\n",
    "        tokenized.writelines(text[-valid_size:])\n",
    "    with open(\"train.tar\", \"a\") as tokenized:\n",
    "        tokenized.writelines(text[:-valid_size])\n",
    "        \n",
    "with open(\"raw/train-kwaras.es\") as raw:\n",
    "    text = [tokenize_spanish(l) for l in raw]\n",
    "    valid_size = int(len(text) / 10)\n",
    "    \n",
    "    with open(\"valid.es\", \"a\") as tokenized:\n",
    "        tokenized.writelines(text[-valid_size:])\n",
    "    with open(\"train.es\", \"a\") as tokenized:\n",
    "        tokenized.writelines(text[:-valid_size])\n",
    "        \n",
    "print(f\"Put {valid_size} out of {len(text)} in 'valid' dataset\")"
   ]
  },
  {
   "cell_type": "code",
   "execution_count": 82,
   "id": "elementary-slave",
   "metadata": {},
   "outputs": [
    {
     "name": "stdout",
     "output_type": "stream",
     "text": [
      "Put 755 out of 7555 in 'valid' dataset\n"
     ]
    }
   ],
   "source": [
    "with open(\"raw/train-diccionario.tar\") as raw:\n",
    "    text = [tokenize_samachique(l) for l in raw]\n",
    "    valid_size = int(len(text) / 10)\n",
    "    \n",
    "    with open(\"valid.tar\", \"a\") as tokenized:\n",
    "        tokenized.writelines(text[-valid_size:])\n",
    "    with open(\"train.tar\", \"a\") as tokenized:\n",
    "        tokenized.writelines(text[:-valid_size])\n",
    "        \n",
    "with open(\"raw/train-diccionario.es\") as raw:\n",
    "    text = [tokenize_spanish(l) for l in raw]\n",
    "    valid_size = int(len(text) / 10)\n",
    "    \n",
    "    with open(\"valid.es\", \"a\") as tokenized:\n",
    "        tokenized.writelines(text[-valid_size:])\n",
    "    with open(\"train.es\", \"a\") as tokenized:\n",
    "        tokenized.writelines(text[:-valid_size])\n",
    "        \n",
    "print(f\"Put {valid_size} out of {len(text)} in 'valid' dataset\")"
   ]
  },
  {
   "cell_type": "code",
   "execution_count": 83,
   "id": "understanding-wallet",
   "metadata": {},
   "outputs": [
    {
     "name": "stdout",
     "output_type": "stream",
     "text": [
      "Put 794 out of 7942 in 'valid' dataset\n"
     ]
    }
   ],
   "source": [
    "with open(\"raw/train-biblia.tar\") as raw:\n",
    "    text = [tokenize_biblia(l) for l in raw]\n",
    "    valid_size = int(len(text) / 10)\n",
    "    \n",
    "    with open(\"valid.tar\", \"a\") as tokenized:\n",
    "        tokenized.writelines(text[:valid_size])\n",
    "    with open(\"train.tar\", \"a\") as tokenized:\n",
    "        tokenized.writelines(text[valid_size:])\n",
    "        \n",
    "with open(\"raw/train-biblia.es\") as raw:\n",
    "    text = [tokenize_spanish(l) for l in raw]\n",
    "    valid_size = int(len(text) / 10)\n",
    "    \n",
    "    with open(\"valid.es\", \"a\") as tokenized:\n",
    "        tokenized.writelines(text[:valid_size])\n",
    "    with open(\"train.es\", \"a\") as tokenized:\n",
    "        tokenized.writelines(text[valid_size:])\n",
    "        \n",
    "print(f\"Put {valid_size} out of {len(text)} in 'valid' dataset\")"
   ]
  },
  {
   "cell_type": "code",
   "execution_count": null,
   "id": "underlying-little",
   "metadata": {},
   "outputs": [],
   "source": []
  }
 ],
 "metadata": {
  "kernelspec": {
   "display_name": "Python 3",
   "language": "python",
   "name": "python3"
  },
  "language_info": {
   "codemirror_mode": {
    "name": "ipython",
    "version": 3
   },
   "file_extension": ".py",
   "mimetype": "text/x-python",
   "name": "python",
   "nbconvert_exporter": "python",
   "pygments_lexer": "ipython3",
   "version": "3.8.5"
  }
 },
 "nbformat": 4,
 "nbformat_minor": 5
}
