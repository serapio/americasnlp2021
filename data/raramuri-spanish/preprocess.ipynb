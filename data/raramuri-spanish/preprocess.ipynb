{
 "cells": [
  {
   "cell_type": "code",
   "execution_count": 8,
   "id": "painted-harvey",
   "metadata": {},
   "outputs": [
    {
     "data": {
      "text/plain": [
       "'alegá ratabálale ; pachá ewélele mochíame goQale ralámuli'"
      ]
     },
     "execution_count": 8,
     "metadata": {},
     "output_type": "execute_result"
    }
   ],
   "source": [
    "import re\n",
    "\n",
    "def tokenize_brambila(line):\n",
    "    text = re.sub(r\" ?[ꞌ'’‘] ?\", \"Q\", line.lower())\n",
    "    text = text.replace(' * ', '')\n",
    "\n",
    "    text = re.sub(r'^[A-Z ]+ ([.:] )?', '', text)\n",
    "    text = re.sub(r'^(\\( [0-9a-k] \\) )+(\\. )?', '', text)\n",
    "    text = re.sub(r'[a-k] \\) ', '', text)\n",
    "    text = re.sub(r'[0-9] - ', '', text)\n",
    "    text = re.sub(r'^[A-Z ]+ ([.:] )?', '', text)\n",
    "\n",
    "    text = re.sub(r'ŕr?', '_R_', text)\n",
    "    text = re.sub(r'^r| r', '_R_', text)\n",
    "    text = text.replace('r', 'l')\n",
    "    text = text.replace('_R_', 'r')\n",
    "    text = text.replace('tz', 'ch')\n",
    "    text = re.sub(r'([,.?!¿¡()_-])', r' \\1 ', text)\n",
    "    text = re.sub(r' +', ' ', text)\n",
    "    text = re.sub(r'^ ', '', text)\n",
    "    text = re.sub(r' $', '', text)\n",
    "    return text\n",
    "\n",
    "tokenize_brambila(\"( 2 ) aregá ŕatabárare ; patzá ewérere mochíame go'are ŕarámuri\")"
   ]
  },
  {
   "cell_type": "code",
   "execution_count": 9,
   "id": "several-occurrence",
   "metadata": {},
   "outputs": [
    {
     "data": {
      "text/plain": [
       "'aQlíko , bilé mili waminá malí ciento pakótami si napawíli , echoná ne si bakíli .'"
      ]
     },
     "execution_count": 9,
     "metadata": {},
     "output_type": "execute_result"
    }
   ],
   "source": [
    "def tokenize_maennerchor(line):\n",
    "    text = re.sub(r\" ?[ꞌ'’‘] ?\", \"Q\", line.lower())\n",
    "\n",
    "    text = re.sub(r'([,.?!¿¡()_-])', r' \\1 ', text)\n",
    "    text = re.sub(r' +', ' ', text)\n",
    "    text = re.sub(r'^ ', '', text)\n",
    "    text = re.sub(r' $', '', text)\n",
    "    return text\n",
    "\n",
    "tokenize_maennerchor(\"A’líko, bilé mili waminá malí ciento pakótami si napawíli, echoná ne si bakíli.\")"
   ]
  },
  {
   "cell_type": "code",
   "execution_count": 10,
   "id": "technological-birth",
   "metadata": {},
   "outputs": [
    {
     "data": {
      "text/plain": [
       "'chopi mapalí nijeni ma ku owinsa , echalini bachá simea echoQná galiléachi anilíwachi kawírali .'"
      ]
     },
     "execution_count": 10,
     "metadata": {},
     "output_type": "execute_result"
    }
   ],
   "source": [
    "def tokenize_biblia(line):\n",
    "    text = re.sub(r\" ?[ꞌ'’‘] ?\", \"Q\", line.lower())\n",
    "    text = text.split('\\t')[1]\n",
    "    \n",
    "    text = re.sub(r'([,.?!¿¡()_-])', r' \\1 ', text)\n",
    "    text = re.sub(r' +', ' ', text)\n",
    "    text = re.sub(r'^ ', '', text)\n",
    "    text = re.sub(r' $', '', text)\n",
    "    return text\n",
    "\n",
    "tokenize_biblia(\"26:32\tChopi mapalí Nijeni ma ku owinsa, echalini bachá simea echoꞌná Galiléachi anilíwachi kawírali.\")"
   ]
  },
  {
   "cell_type": "code",
   "execution_count": 13,
   "id": "lightweight-southeast",
   "metadata": {},
   "outputs": [
    {
     "data": {
      "text/plain": [
       "'entonces pablo le dijo: “ ¡ dios te golpeará , hipócrita ! ¡ te sientas allí para juzgarme conforme a tu ley , pero das orden para que me golpeen siendo que es infracción de la ley ! ”'"
      ]
     },
     "execution_count": 13,
     "metadata": {},
     "output_type": "execute_result"
    }
   ],
   "source": [
    "def tokenize_spanish(line):\n",
    "    text = line.lower().split('\\t')[-1]\n",
    "    \n",
    "    text = re.sub(r'([,.?!¿¡()_-])', r' \\1 ', text)\n",
    "    text = re.sub(r' +', ' ', text)\n",
    "    text = re.sub(r'^ ', '', text)\n",
    "    text = re.sub(r' $', '', text)\n",
    "    return text\n",
    "\n",
    "tokenize_spanish(\" 23:3 \tEntonces Pablo le dijo: “¡Dios te golpeará, hipócrita! ¡Te sientas allí para juzgarme conforme a tu ley, pero das orden para que me golpeen siendo que es infracción de la ley!”\")"
   ]
  },
  {
   "cell_type": "code",
   "execution_count": 14,
   "id": "naval-setup",
   "metadata": {},
   "outputs": [],
   "source": [
    "with open(\"raw/dev-maennerchor.tar\") as raw:\n",
    "    with open(\"dev.tar\", \"w\") as tokenized:\n",
    "        tokenized.writelines([tokenize_maennerchor(l) for l in raw])"
   ]
  },
  {
   "cell_type": "code",
   "execution_count": 16,
   "id": "encouraging-reviewer",
   "metadata": {},
   "outputs": [],
   "source": [
    "with open(\"raw/dev-maennerchor.es\") as raw:\n",
    "    with open(\"dev.es\", \"w\") as tokenized:\n",
    "        tokenized.writelines([tokenize_spanish(l) for l in raw])"
   ]
  },
  {
   "cell_type": "code",
   "execution_count": 17,
   "id": "elementary-slave",
   "metadata": {},
   "outputs": [
    {
     "name": "stdout",
     "output_type": "stream",
     "text": [
      "Put 795 out of 7958 in 'valid' dataset\n"
     ]
    }
   ],
   "source": [
    "with open(\"raw/train-biblia.tar\") as raw:\n",
    "    text = [tokenize_biblia(l) for l in raw]\n",
    "    valid_size = int(len(text) / 10)\n",
    "    \n",
    "    with open(\"valid.tar\", \"w\") as tokenized:\n",
    "        tokenized.writelines(text[:valid_size])\n",
    "    with open(\"train.tar\", \"w\") as tokenized:\n",
    "        tokenized.writelines(text[valid_size:])\n",
    "        \n",
    "with open(\"raw/train-biblia.es\") as raw:\n",
    "    text = [tokenize_spanish(l) for l in raw]\n",
    "    valid_size = int(len(text) / 10)\n",
    "    \n",
    "    with open(\"valid.es\", \"w\") as tokenized:\n",
    "        tokenized.writelines(text[:valid_size])\n",
    "    with open(\"train.es\", \"w\") as tokenized:\n",
    "        tokenized.writelines(text[valid_size:])\n",
    "        \n",
    "print(f\"Put {valid_size} out of {len(text)} in 'valid' dataset\")"
   ]
  },
  {
   "cell_type": "code",
   "execution_count": 19,
   "id": "understanding-wallet",
   "metadata": {},
   "outputs": [
    {
     "name": "stdout",
     "output_type": "stream",
     "text": [
      "Put 1472 out of 14720 in 'valid' dataset\n"
     ]
    }
   ],
   "source": [
    "with open(\"raw/train-brambila.tar\") as raw:\n",
    "    text = [tokenize_brambila(l) for l in raw]\n",
    "    valid_size = int(len(text) / 10)\n",
    "    \n",
    "    with open(\"valid.tar\", \"a\") as tokenized:\n",
    "        tokenized.writelines(text[:valid_size])\n",
    "    with open(\"train.tar\", \"a\") as tokenized:\n",
    "        tokenized.writelines(text[valid_size:])\n",
    "        \n",
    "with open(\"raw/train-brambila.es\") as raw:\n",
    "    text = [tokenize_spanish(l) for l in raw]\n",
    "    valid_size = int(len(text) / 10)\n",
    "    \n",
    "    with open(\"valid.es\", \"a\") as tokenized:\n",
    "        tokenized.writelines(text[:valid_size])\n",
    "    with open(\"train.es\", \"a\") as tokenized:\n",
    "        tokenized.writelines(text[valid_size:])\n",
    "        \n",
    "print(f\"Put {valid_size} out of {len(text)} in 'valid' dataset\")"
   ]
  },
  {
   "cell_type": "code",
   "execution_count": null,
   "id": "underlying-little",
   "metadata": {},
   "outputs": [],
   "source": []
  }
 ],
 "metadata": {
  "kernelspec": {
   "display_name": "Python 3",
   "language": "python",
   "name": "python3"
  },
  "language_info": {
   "codemirror_mode": {
    "name": "ipython",
    "version": 3
   },
   "file_extension": ".py",
   "mimetype": "text/x-python",
   "name": "python",
   "nbconvert_exporter": "python",
   "pygments_lexer": "ipython3",
   "version": "3.8.5"
  }
 },
 "nbformat": 4,
 "nbformat_minor": 5
}
